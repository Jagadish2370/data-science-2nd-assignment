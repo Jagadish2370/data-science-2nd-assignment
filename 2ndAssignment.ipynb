{
 "cells": [
  {
   "cell_type": "raw",
   "id": "46e02bfa-70b7-460b-91b8-1f677d519171",
   "metadata": {},
   "source": [
    " Q1. Which keyword is used to create a function? Create a function to return a list of odd numbers in therange of 1 to 25."
   ]
  },
  {
   "cell_type": "code",
   "execution_count": 1,
   "id": "338c012e-0202-435c-a0db-014995b19e60",
   "metadata": {},
   "outputs": [
    {
     "name": "stdout",
     "output_type": "stream",
     "text": [
      "[1, 3, 5, 7, 9, 11, 13, 15, 17, 19, 21, 23, 25]\n"
     ]
    }
   ],
   "source": [
    "def get_odd_numbers(start, end):\n",
    "    return [num for num in range(start, end+1) if num % 2 != 0]\n",
    "\n",
    "odd_numbers = get_odd_numbers(1, 25)\n",
    "print(odd_numbers)\n"
   ]
  },
  {
   "cell_type": "raw",
   "id": "0e09a367-d7f0-42e7-8a77-d50cd8e32694",
   "metadata": {},
   "source": [
    " Q2. Why *args and **kwargs is used in some functions? Create a function each for *args and **kwargs \n",
    "*args is used to pass a variable number of non-keyword arguments to a function.\n",
    "**kwargs is used to pass a variable number of keyword arguments."
   ]
  },
  {
   "cell_type": "code",
   "execution_count": 2,
   "id": "dbed738f-3923-4b59-9964-848d873f7585",
   "metadata": {},
   "outputs": [
    {
     "name": "stdout",
     "output_type": "stream",
     "text": [
      "1\n",
      "2\n",
      "3\n",
      "a: 10\n",
      "b: 20\n",
      "c: 30\n"
     ]
    }
   ],
   "source": [
    "def demo_args(*args):\n",
    "    for arg in args:\n",
    "        print(arg)\n",
    "\n",
    "def demo_kwargs(**kwargs):\n",
    "    for key, value in kwargs.items():\n",
    "        print(f\"{key}: {value}\")\n",
    "\n",
    "demo_args(1, 2, 3)\n",
    "demo_kwargs(a=10, b=20, c=30)\n"
   ]
  },
  {
   "cell_type": "raw",
   "id": "94f0e6a9-30c4-4326-a2f0-451cb8424a51",
   "metadata": {},
   "source": [
    "Q3. What is an iterator in python? Name the method used to initialise the iterator object and the method\n",
    "used for iteration. Use these methods to print the first five elements of the given list [2, 4, 6, 8, 10, 12, 14,\n",
    "16, 18, 20]."
   ]
  },
  {
   "cell_type": "raw",
   "id": "6706f17a-500b-46af-b404-d12dc071f28c",
   "metadata": {},
   "source": [
    "An iterator is an object that implements two methods: __iter__() and __next__(). The __iter__() method initializes the iterator, and the __next__() method is used for iteration."
   ]
  },
  {
   "cell_type": "code",
   "execution_count": 3,
   "id": "a0656263-2086-4b49-9457-c8bd5e985819",
   "metadata": {},
   "outputs": [
    {
     "name": "stdout",
     "output_type": "stream",
     "text": [
      "2\n",
      "4\n",
      "6\n",
      "8\n",
      "10\n"
     ]
    }
   ],
   "source": [
    "numbers = [2, 4, 6, 8, 10, 12, 14, 16, 18, 20]\n",
    "iterator = iter(numbers)\n",
    "\n",
    "for _ in range(5):\n",
    "    print(next(iterator))\n"
   ]
  },
  {
   "cell_type": "raw",
   "id": "efc42603-c62d-4a95-a934-414669405bef",
   "metadata": {},
   "source": [
    "Q4. What is a generator function in python? Why yield keyword is used? Give an example of a generator\n",
    "function."
   ]
  },
  {
   "cell_type": "raw",
   "id": "25121c50-a47d-4dfe-9e1a-561686e8a231",
   "metadata": {},
   "source": [
    "A generator function is a special type of function that generates values on-the-fly using the yield keyword. It doesn't store the entire sequence in memory at once."
   ]
  },
  {
   "cell_type": "code",
   "execution_count": 4,
   "id": "79343505-d393-44ad-9a94-6952dfc3119c",
   "metadata": {},
   "outputs": [
    {
     "name": "stdout",
     "output_type": "stream",
     "text": [
      "0\n",
      "1\n",
      "1\n",
      "2\n",
      "3\n",
      "5\n",
      "8\n",
      "13\n",
      "21\n",
      "34\n"
     ]
    }
   ],
   "source": [
    "def fibonacci_generator():\n",
    "    a, b = 0, 1\n",
    "    while True:\n",
    "        yield a\n",
    "        a, b = b, a + b\n",
    "\n",
    "fibonacci = fibonacci_generator()\n",
    "for _ in range(10):\n",
    "    print(next(fibonacci))\n"
   ]
  },
  {
   "cell_type": "markdown",
   "id": "ff1f7d8d-9670-4910-b5c0-05960144fd0c",
   "metadata": {},
   "source": [
    "Q5. Create a generator function for prime numbers less than 1000. Use the next() method to print the\n",
    "first 20 prime numbers."
   ]
  },
  {
   "cell_type": "code",
   "execution_count": 5,
   "id": "7bb6958e-9503-4bc4-a60c-e4652e9fed74",
   "metadata": {},
   "outputs": [
    {
     "name": "stdout",
     "output_type": "stream",
     "text": [
      "2\n",
      "3\n",
      "5\n",
      "7\n",
      "11\n",
      "13\n",
      "17\n",
      "19\n",
      "23\n",
      "29\n",
      "31\n",
      "37\n",
      "41\n",
      "43\n",
      "47\n",
      "53\n",
      "59\n",
      "61\n",
      "67\n",
      "71\n"
     ]
    }
   ],
   "source": [
    "def is_prime(n):\n",
    "    if n <= 1:\n",
    "        return False\n",
    "    for i in range(2, int(n**0.5) + 1):\n",
    "        if n % i == 0:\n",
    "            return False\n",
    "    return True\n",
    "\n",
    "def prime_generator(limit):\n",
    "    num = 2\n",
    "    while num < limit:\n",
    "        if is_prime(num):\n",
    "            yield num\n",
    "        num += 1\n",
    "\n",
    "prime_gen = prime_generator(1000)\n",
    "for _ in range(20):\n",
    "    print(next(prime_gen))\n"
   ]
  },
  {
   "cell_type": "raw",
   "id": "71217c33-20cf-4a6c-8a93-37ffba7db938",
   "metadata": {},
   "source": [
    "Q6. Write a python program to print the first 10 Fibonacci numbers using a while loop."
   ]
  },
  {
   "cell_type": "code",
   "execution_count": 6,
   "id": "069935d2-8c29-454a-8dc2-ccef51190dbb",
   "metadata": {},
   "outputs": [
    {
     "name": "stdout",
     "output_type": "stream",
     "text": [
      "0\n",
      "1\n",
      "1\n",
      "2\n",
      "3\n",
      "5\n",
      "8\n",
      "13\n",
      "21\n",
      "34\n"
     ]
    }
   ],
   "source": [
    "a, b = 0, 1\n",
    "count = 0\n",
    "\n",
    "while count < 10:\n",
    "    print(a)\n",
    "    a, b = b, a + b\n",
    "    count += 1\n"
   ]
  },
  {
   "cell_type": "raw",
   "id": "ecc8bae9-5a30-42ff-afa4-92360b78fefe",
   "metadata": {},
   "source": [
    "Q7. Write a List Comprehension to iterate through the given string: ‘pwskills’.\n",
    "Expected output: ['p', 'w', 's', 'k', 'i', 'l', 'l', 's']"
   ]
  },
  {
   "cell_type": "code",
   "execution_count": 7,
   "id": "65ed2718-a27d-44e3-a260-af184f0802df",
   "metadata": {},
   "outputs": [
    {
     "name": "stdout",
     "output_type": "stream",
     "text": [
      "['w', 's', 'k', 'i', 'l', 'l', 's']\n"
     ]
    }
   ],
   "source": [
    "string = 'pwskills'\n",
    "result = [char for char in string if char in 'wskil']\n",
    "print(result)\n"
   ]
  },
  {
   "cell_type": "raw",
   "id": "30418b63-f9e8-4a42-9f86-f3bc4cb7e990",
   "metadata": {},
   "source": [
    "Q8. Write a python program to check whether a given number is Palindrome or not using a while loop."
   ]
  },
  {
   "cell_type": "code",
   "execution_count": 8,
   "id": "86f0194b-95c8-4aae-8f28-daa8927b1412",
   "metadata": {},
   "outputs": [
    {
     "name": "stdout",
     "output_type": "stream",
     "text": [
      "1213 is not a palindrome.\n"
     ]
    }
   ],
   "source": [
    "def is_palindrome(number):\n",
    "    original = number\n",
    "    reverse = 0\n",
    "    while number > 0:\n",
    "        digit = number % 10\n",
    "        reverse = reverse * 10 + digit\n",
    "        number //= 10\n",
    "    return original == reverse\n",
    "\n",
    "num = int(input(\"Enter a number: \"))\n",
    "if is_palindrome(num):\n",
    "    print(f\"{num} is a palindrome.\")\n",
    "else:\n",
    "    print(f\"{num} is not a palindrome.\")\n"
   ]
  },
  {
   "cell_type": "raw",
   "id": "2cff9e6f-5f31-4d28-903d-31f3ffc0df59",
   "metadata": {},
   "source": [
    "Q9. Write a code to print odd numbers from 1 to 100 using list comprehension.\n",
    "Note: Use a list comprehension to create a list from 1 to 100 and use another List comprehension to filter\n",
    "out odd numbers."
   ]
  },
  {
   "cell_type": "code",
   "execution_count": 9,
   "id": "9ba9e699-cd7d-4642-80d7-5fd57e79d0c8",
   "metadata": {},
   "outputs": [
    {
     "name": "stdout",
     "output_type": "stream",
     "text": [
      "[1, 3, 5, 7, 9, 11, 13, 15, 17, 19, 21, 23, 25, 27, 29, 31, 33, 35, 37, 39, 41, 43, 45, 47, 49, 51, 53, 55, 57, 59, 61, 63, 65, 67, 69, 71, 73, 75, 77, 79, 81, 83, 85, 87, 89, 91, 93, 95, 97, 99]\n"
     ]
    }
   ],
   "source": [
    "odd_numbers = [num for num in range(1, 101) if num % 2 != 0]\n",
    "print(odd_numbers)\n"
   ]
  },
  {
   "cell_type": "code",
   "execution_count": null,
   "id": "5481e7cd-ba4f-4521-91e2-7e3d734769b3",
   "metadata": {},
   "outputs": [],
   "source": []
  }
 ],
 "metadata": {
  "kernelspec": {
   "display_name": "Python 3 (ipykernel)",
   "language": "python",
   "name": "python3"
  },
  "language_info": {
   "codemirror_mode": {
    "name": "ipython",
    "version": 3
   },
   "file_extension": ".py",
   "mimetype": "text/x-python",
   "name": "python",
   "nbconvert_exporter": "python",
   "pygments_lexer": "ipython3",
   "version": "3.10.4"
  }
 },
 "nbformat": 4,
 "nbformat_minor": 5
}
